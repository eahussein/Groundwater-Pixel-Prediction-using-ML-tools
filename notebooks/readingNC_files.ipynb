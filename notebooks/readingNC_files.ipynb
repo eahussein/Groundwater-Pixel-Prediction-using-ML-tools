{
 "cells": [
  {
   "cell_type": "markdown",
   "metadata": {},
   "source": [
    "## This Notebook does the necessary preprocessing for the data"
   ]
  },
  {
   "cell_type": "code",
   "execution_count": 6,
   "metadata": {},
   "outputs": [],
   "source": [
    "from PIL import Image, ImageSequence\n",
    "import pandas as pd \n",
    "import glob\n",
    "from netCDF4 import Dataset as NetCDFFile \n",
    "import matplotlib.pyplot as plt\n",
    "import numpy as np\n",
    "import os\n",
    "os.environ[\"PROJ_LIB\"] = \"C:\\\\Users\\\\Eslam\\Anaconda3\\\\Library\\\\share\"; #fixr\n",
    "from mpl_toolkits.basemap import Basemap"
   ]
  },
  {
   "cell_type": "code",
   "execution_count": 7,
   "metadata": {},
   "outputs": [],
   "source": [
    "#Reading the frames from the pc\n",
    "frames = sorted(glob.glob ('C:/Users/Eslam/Documents/Work/2020-Side projects/Ground Water Project/Data/podaac-tools.jpl.nasa.gov/*.nc')) # Change Type (not now)\n"
   ]
  },
  {
   "cell_type": "code",
   "execution_count": 5,
   "metadata": {},
   "outputs": [
    {
     "name": "stdout",
     "output_type": "stream",
     "text": [
      "C:/Users/Eslam/Documents/Work/2020-Side projects/Ground Water Project/Data/podaac-tools.jpl.nasa.gov\\GRD-3_2002094-2002120_GRAC_JPLEM_BA01_0600_LND_v01.nc\n",
      "(1, 180, 360)\n",
      "C:/Users/Eslam/Documents/Work/2020-Side projects/Ground Water Project/Data/podaac-tools.jpl.nasa.gov\\GRD-3_2002122-2002138_GRAC_JPLEM_BA01_0600_LND_v01.nc\n",
      "(1, 180, 360)\n",
      "C:/Users/Eslam/Documents/Work/2020-Side projects/Ground Water Project/Data/podaac-tools.jpl.nasa.gov\\GRD-3_2002213-2002243_GRAC_JPLEM_BA01_0600_LND_v01.nc\n",
      "(1, 180, 360)\n",
      "C:/Users/Eslam/Documents/Work/2020-Side projects/Ground Water Project/Data/podaac-tools.jpl.nasa.gov\\GRD-3_2002244-2002273_GRAC_JPLEM_BA01_0600_LND_v01.nc\n",
      "(1, 180, 360)\n",
      "C:/Users/Eslam/Documents/Work/2020-Side projects/Ground Water Project/Data/podaac-tools.jpl.nasa.gov\\GRD-3_2002274-2002304_GRAC_JPLEM_BA01_0600_LND_v01.nc\n",
      "(1, 180, 360)\n",
      "C:/Users/Eslam/Documents/Work/2020-Side projects/Ground Water Project/Data/podaac-tools.jpl.nasa.gov\\GRD-3_2002305-2002334_GRAC_JPLEM_BA01_0600_LND_v01.nc\n",
      "(1, 180, 360)\n",
      "C:/Users/Eslam/Documents/Work/2020-Side projects/Ground Water Project/Data/podaac-tools.jpl.nasa.gov\\GRD-3_2002335-2002365_GRAC_JPLEM_BA01_0600_LND_v01.nc\n",
      "(1, 180, 360)\n",
      "C:/Users/Eslam/Documents/Work/2020-Side projects/Ground Water Project/Data/podaac-tools.jpl.nasa.gov\\GRD-3_2003001-2003031_GRAC_JPLEM_BA01_0600_LND_v01.nc\n",
      "(1, 180, 360)\n",
      "C:/Users/Eslam/Documents/Work/2020-Side projects/Ground Water Project/Data/podaac-tools.jpl.nasa.gov\\GRD-3_2003032-2003059_GRAC_JPLEM_BA01_0600_LND_v01.nc\n",
      "(1, 180, 360)\n",
      "C:/Users/Eslam/Documents/Work/2020-Side projects/Ground Water Project/Data/podaac-tools.jpl.nasa.gov\\GRD-3_2003060-2003090_GRAC_JPLEM_BA01_0600_LND_v01.nc\n",
      "(1, 180, 360)\n",
      "C:/Users/Eslam/Documents/Work/2020-Side projects/Ground Water Project/Data/podaac-tools.jpl.nasa.gov\\GRD-3_2003091-2003120_GRAC_JPLEM_BA01_0600_LND_v01.nc\n",
      "(1, 180, 360)\n",
      "C:/Users/Eslam/Documents/Work/2020-Side projects/Ground Water Project/Data/podaac-tools.jpl.nasa.gov\\GRD-3_2003121-2003141_GRAC_JPLEM_BA01_0600_LND_v01.nc\n",
      "(1, 180, 360)\n",
      "C:/Users/Eslam/Documents/Work/2020-Side projects/Ground Water Project/Data/podaac-tools.jpl.nasa.gov\\GRD-3_2003182-2003212_GRAC_JPLEM_BA01_0600_LND_v01.nc\n",
      "(1, 180, 360)\n",
      "C:/Users/Eslam/Documents/Work/2020-Side projects/Ground Water Project/Data/podaac-tools.jpl.nasa.gov\\GRD-3_2003213-2003243_GRAC_JPLEM_BA01_0600_LND_v01.nc\n",
      "(1, 180, 360)\n",
      "C:/Users/Eslam/Documents/Work/2020-Side projects/Ground Water Project/Data/podaac-tools.jpl.nasa.gov\\GRD-3_2003244-2003273_GRAC_JPLEM_BA01_0600_LND_v01.nc\n",
      "(1, 180, 360)\n",
      "C:/Users/Eslam/Documents/Work/2020-Side projects/Ground Water Project/Data/podaac-tools.jpl.nasa.gov\\GRD-3_2003274-2003303_GRAC_JPLEM_BA01_0600_LND_v01.nc\n",
      "(1, 180, 360)\n",
      "C:/Users/Eslam/Documents/Work/2020-Side projects/Ground Water Project/Data/podaac-tools.jpl.nasa.gov\\GRD-3_2003305-2003334_GRAC_JPLEM_BA01_0600_LND_v01.nc\n",
      "(1, 180, 360)\n",
      "C:/Users/Eslam/Documents/Work/2020-Side projects/Ground Water Project/Data/podaac-tools.jpl.nasa.gov\\GRD-3_2003335-2003365_GRAC_JPLEM_BA01_0600_LND_v01.nc\n",
      "(1, 180, 360)\n",
      "C:/Users/Eslam/Documents/Work/2020-Side projects/Ground Water Project/Data/podaac-tools.jpl.nasa.gov\\GRD-3_2004001-2004013_GRAC_JPLEM_BA01_0600_LND_v01.nc\n",
      "(1, 180, 360)\n",
      "C:/Users/Eslam/Documents/Work/2020-Side projects/Ground Water Project/Data/podaac-tools.jpl.nasa.gov\\GRD-3_2004035-2004060_GRAC_JPLEM_BA01_0600_LND_v01.nc\n",
      "(1, 180, 360)\n",
      "C:/Users/Eslam/Documents/Work/2020-Side projects/Ground Water Project/Data/podaac-tools.jpl.nasa.gov\\GRD-3_2004061-2004091_GRAC_JPLEM_BA01_0600_LND_v01.nc\n",
      "(1, 180, 360)\n",
      "C:/Users/Eslam/Documents/Work/2020-Side projects/Ground Water Project/Data/podaac-tools.jpl.nasa.gov\\GRD-3_2004092-2004121_GRAC_JPLEM_BA01_0600_LND_v01.nc\n",
      "(1, 180, 360)\n",
      "C:/Users/Eslam/Documents/Work/2020-Side projects/Ground Water Project/Data/podaac-tools.jpl.nasa.gov\\GRD-3_2004122-2004152_GRAC_JPLEM_BA01_0600_LND_v01.nc\n",
      "(1, 180, 360)\n",
      "C:/Users/Eslam/Documents/Work/2020-Side projects/Ground Water Project/Data/podaac-tools.jpl.nasa.gov\\GRD-3_2004153-2004182_GRAC_JPLEM_BA01_0600_LND_v01.nc\n",
      "(1, 180, 360)\n",
      "C:/Users/Eslam/Documents/Work/2020-Side projects/Ground Water Project/Data/podaac-tools.jpl.nasa.gov\\GRD-3_2004183-2004213_GRAC_JPLEM_BA01_0600_LND_v01.nc\n",
      "(1, 180, 360)\n",
      "C:/Users/Eslam/Documents/Work/2020-Side projects/Ground Water Project/Data/podaac-tools.jpl.nasa.gov\\GRD-3_2004214-2004244_GRAC_JPLEM_BA01_0600_LND_v01.nc\n",
      "(1, 180, 360)\n",
      "C:/Users/Eslam/Documents/Work/2020-Side projects/Ground Water Project/Data/podaac-tools.jpl.nasa.gov\\GRD-3_2004245-2004274_GRAC_JPLEM_BA01_0600_LND_v01.nc\n",
      "(1, 180, 360)\n",
      "C:/Users/Eslam/Documents/Work/2020-Side projects/Ground Water Project/Data/podaac-tools.jpl.nasa.gov\\GRD-3_2004275-2004305_GRAC_JPLEM_BA01_0600_LND_v01.nc\n",
      "(1, 180, 360)\n",
      "C:/Users/Eslam/Documents/Work/2020-Side projects/Ground Water Project/Data/podaac-tools.jpl.nasa.gov\\GRD-3_2004306-2004335_GRAC_JPLEM_BA01_0600_LND_v01.nc\n",
      "(1, 180, 360)\n",
      "C:/Users/Eslam/Documents/Work/2020-Side projects/Ground Water Project/Data/podaac-tools.jpl.nasa.gov\\GRD-3_2004336-2004366_GRAC_JPLEM_BA01_0600_LND_v01.nc\n",
      "(1, 180, 360)\n",
      "C:/Users/Eslam/Documents/Work/2020-Side projects/Ground Water Project/Data/podaac-tools.jpl.nasa.gov\\GRD-3_2005001-2005031_GRAC_JPLEM_BA01_0600_LND_v01.nc\n",
      "(1, 180, 360)\n",
      "C:/Users/Eslam/Documents/Work/2020-Side projects/Ground Water Project/Data/podaac-tools.jpl.nasa.gov\\GRD-3_2005032-2005059_GRAC_JPLEM_BA01_0600_LND_v01.nc\n",
      "(1, 180, 360)\n",
      "C:/Users/Eslam/Documents/Work/2020-Side projects/Ground Water Project/Data/podaac-tools.jpl.nasa.gov\\GRD-3_2005060-2005090_GRAC_JPLEM_BA01_0600_LND_v01.nc\n",
      "(1, 180, 360)\n",
      "C:/Users/Eslam/Documents/Work/2020-Side projects/Ground Water Project/Data/podaac-tools.jpl.nasa.gov\\GRD-3_2005091-2005120_GRAC_JPLEM_BA01_0600_LND_v01.nc\n",
      "(1, 180, 360)\n",
      "C:/Users/Eslam/Documents/Work/2020-Side projects/Ground Water Project/Data/podaac-tools.jpl.nasa.gov\\GRD-3_2005121-2005151_GRAC_JPLEM_BA01_0600_LND_v01.nc\n",
      "(1, 180, 360)\n",
      "C:/Users/Eslam/Documents/Work/2020-Side projects/Ground Water Project/Data/podaac-tools.jpl.nasa.gov\\GRD-3_2005152-2005181_GRAC_JPLEM_BA01_0600_LND_v01.nc\n",
      "(1, 180, 360)\n",
      "C:/Users/Eslam/Documents/Work/2020-Side projects/Ground Water Project/Data/podaac-tools.jpl.nasa.gov\\GRD-3_2005182-2005212_GRAC_JPLEM_BA01_0600_LND_v01.nc\n",
      "(1, 180, 360)\n",
      "C:/Users/Eslam/Documents/Work/2020-Side projects/Ground Water Project/Data/podaac-tools.jpl.nasa.gov\\GRD-3_2005213-2005243_GRAC_JPLEM_BA01_0600_LND_v01.nc\n",
      "(1, 180, 360)\n",
      "C:/Users/Eslam/Documents/Work/2020-Side projects/Ground Water Project/Data/podaac-tools.jpl.nasa.gov\\GRD-3_2005244-2005273_GRAC_JPLEM_BA01_0600_LND_v01.nc\n",
      "(1, 180, 360)\n",
      "C:/Users/Eslam/Documents/Work/2020-Side projects/Ground Water Project/Data/podaac-tools.jpl.nasa.gov\\GRD-3_2005274-2005304_GRAC_JPLEM_BA01_0600_LND_v01.nc\n",
      "(1, 180, 360)\n",
      "C:/Users/Eslam/Documents/Work/2020-Side projects/Ground Water Project/Data/podaac-tools.jpl.nasa.gov\\GRD-3_2005305-2005334_GRAC_JPLEM_BA01_0600_LND_v01.nc\n",
      "(1, 180, 360)\n",
      "C:/Users/Eslam/Documents/Work/2020-Side projects/Ground Water Project/Data/podaac-tools.jpl.nasa.gov\\GRD-3_2005335-2005365_GRAC_JPLEM_BA01_0600_LND_v01.nc\n",
      "(1, 180, 360)\n",
      "C:/Users/Eslam/Documents/Work/2020-Side projects/Ground Water Project/Data/podaac-tools.jpl.nasa.gov\\GRD-3_2006001-2006031_GRAC_JPLEM_BA01_0600_LND_v01.nc\n",
      "(1, 180, 360)\n",
      "C:/Users/Eslam/Documents/Work/2020-Side projects/Ground Water Project/Data/podaac-tools.jpl.nasa.gov\\GRD-3_2006032-2006059_GRAC_JPLEM_BA01_0600_LND_v01.nc\n",
      "(1, 180, 360)\n",
      "C:/Users/Eslam/Documents/Work/2020-Side projects/Ground Water Project/Data/podaac-tools.jpl.nasa.gov\\GRD-3_2006060-2006090_GRAC_JPLEM_BA01_0600_LND_v01.nc\n",
      "(1, 180, 360)\n",
      "C:/Users/Eslam/Documents/Work/2020-Side projects/Ground Water Project/Data/podaac-tools.jpl.nasa.gov\\GRD-3_2006091-2006120_GRAC_JPLEM_BA01_0600_LND_v01.nc\n",
      "(1, 180, 360)\n",
      "C:/Users/Eslam/Documents/Work/2020-Side projects/Ground Water Project/Data/podaac-tools.jpl.nasa.gov\\GRD-3_2006121-2006151_GRAC_JPLEM_BA01_0600_LND_v01.nc\n",
      "(1, 180, 360)\n",
      "C:/Users/Eslam/Documents/Work/2020-Side projects/Ground Water Project/Data/podaac-tools.jpl.nasa.gov\\GRD-3_2006152-2006181_GRAC_JPLEM_BA01_0600_LND_v01.nc\n",
      "(1, 180, 360)\n",
      "C:/Users/Eslam/Documents/Work/2020-Side projects/Ground Water Project/Data/podaac-tools.jpl.nasa.gov\\GRD-3_2006182-2006212_GRAC_JPLEM_BA01_0600_LND_v01.nc\n"
     ]
    },
    {
     "name": "stdout",
     "output_type": "stream",
     "text": [
      "(1, 180, 360)\n",
      "C:/Users/Eslam/Documents/Work/2020-Side projects/Ground Water Project/Data/podaac-tools.jpl.nasa.gov\\GRD-3_2006213-2006243_GRAC_JPLEM_BA01_0600_LND_v01.nc\n",
      "(1, 180, 360)\n",
      "C:/Users/Eslam/Documents/Work/2020-Side projects/Ground Water Project/Data/podaac-tools.jpl.nasa.gov\\GRD-3_2006244-2006273_GRAC_JPLEM_BA01_0600_LND_v01.nc\n",
      "(1, 180, 360)\n",
      "C:/Users/Eslam/Documents/Work/2020-Side projects/Ground Water Project/Data/podaac-tools.jpl.nasa.gov\\GRD-3_2006274-2006304_GRAC_JPLEM_BA01_0600_LND_v01.nc\n",
      "(1, 180, 360)\n",
      "C:/Users/Eslam/Documents/Work/2020-Side projects/Ground Water Project/Data/podaac-tools.jpl.nasa.gov\\GRD-3_2006305-2006334_GRAC_JPLEM_BA01_0600_LND_v01.nc\n",
      "(1, 180, 360)\n",
      "C:/Users/Eslam/Documents/Work/2020-Side projects/Ground Water Project/Data/podaac-tools.jpl.nasa.gov\\GRD-3_2006335-2006365_GRAC_JPLEM_BA01_0600_LND_v01.nc\n",
      "(1, 180, 360)\n",
      "C:/Users/Eslam/Documents/Work/2020-Side projects/Ground Water Project/Data/podaac-tools.jpl.nasa.gov\\GRD-3_2007001-2007031_GRAC_JPLEM_BA01_0600_LND_v01.nc\n",
      "(1, 180, 360)\n",
      "C:/Users/Eslam/Documents/Work/2020-Side projects/Ground Water Project/Data/podaac-tools.jpl.nasa.gov\\GRD-3_2007032-2007059_GRAC_JPLEM_BA01_0600_LND_v01.nc\n",
      "(1, 180, 360)\n",
      "C:/Users/Eslam/Documents/Work/2020-Side projects/Ground Water Project/Data/podaac-tools.jpl.nasa.gov\\GRD-3_2007060-2007090_GRAC_JPLEM_BA01_0600_LND_v01.nc\n",
      "(1, 180, 360)\n",
      "C:/Users/Eslam/Documents/Work/2020-Side projects/Ground Water Project/Data/podaac-tools.jpl.nasa.gov\\GRD-3_2007091-2007120_GRAC_JPLEM_BA01_0600_LND_v01.nc\n",
      "(1, 180, 360)\n",
      "C:/Users/Eslam/Documents/Work/2020-Side projects/Ground Water Project/Data/podaac-tools.jpl.nasa.gov\\GRD-3_2007121-2007151_GRAC_JPLEM_BA01_0600_LND_v01.nc\n",
      "(1, 180, 360)\n",
      "C:/Users/Eslam/Documents/Work/2020-Side projects/Ground Water Project/Data/podaac-tools.jpl.nasa.gov\\GRD-3_2007152-2007181_GRAC_JPLEM_BA01_0600_LND_v01.nc\n",
      "(1, 180, 360)\n",
      "C:/Users/Eslam/Documents/Work/2020-Side projects/Ground Water Project/Data/podaac-tools.jpl.nasa.gov\\GRD-3_2007182-2007212_GRAC_JPLEM_BA01_0600_LND_v01.nc\n",
      "(1, 180, 360)\n",
      "C:/Users/Eslam/Documents/Work/2020-Side projects/Ground Water Project/Data/podaac-tools.jpl.nasa.gov\\GRD-3_2007213-2007243_GRAC_JPLEM_BA01_0600_LND_v01.nc\n",
      "(1, 180, 360)\n",
      "C:/Users/Eslam/Documents/Work/2020-Side projects/Ground Water Project/Data/podaac-tools.jpl.nasa.gov\\GRD-3_2007244-2007273_GRAC_JPLEM_BA01_0600_LND_v01.nc\n",
      "(1, 180, 360)\n",
      "C:/Users/Eslam/Documents/Work/2020-Side projects/Ground Water Project/Data/podaac-tools.jpl.nasa.gov\\GRD-3_2007274-2007304_GRAC_JPLEM_BA01_0600_LND_v01.nc\n",
      "(1, 180, 360)\n",
      "C:/Users/Eslam/Documents/Work/2020-Side projects/Ground Water Project/Data/podaac-tools.jpl.nasa.gov\\GRD-3_2007305-2007334_GRAC_JPLEM_BA01_0600_LND_v01.nc\n",
      "(1, 180, 360)\n",
      "C:/Users/Eslam/Documents/Work/2020-Side projects/Ground Water Project/Data/podaac-tools.jpl.nasa.gov\\GRD-3_2007335-2007365_GRAC_JPLEM_BA01_0600_LND_v01.nc\n",
      "(1, 180, 360)\n",
      "C:/Users/Eslam/Documents/Work/2020-Side projects/Ground Water Project/Data/podaac-tools.jpl.nasa.gov\\GRD-3_2008001-2008031_GRAC_JPLEM_BA01_0600_LND_v01.nc\n",
      "(1, 180, 360)\n",
      "C:/Users/Eslam/Documents/Work/2020-Side projects/Ground Water Project/Data/podaac-tools.jpl.nasa.gov\\GRD-3_2008032-2008060_GRAC_JPLEM_BA01_0600_LND_v01.nc\n",
      "(1, 180, 360)\n",
      "C:/Users/Eslam/Documents/Work/2020-Side projects/Ground Water Project/Data/podaac-tools.jpl.nasa.gov\\GRD-3_2008061-2008091_GRAC_JPLEM_BA01_0600_LND_v01.nc\n",
      "(1, 180, 360)\n",
      "C:/Users/Eslam/Documents/Work/2020-Side projects/Ground Water Project/Data/podaac-tools.jpl.nasa.gov\\GRD-3_2008092-2008121_GRAC_JPLEM_BA01_0600_LND_v01.nc\n",
      "(1, 180, 360)\n",
      "C:/Users/Eslam/Documents/Work/2020-Side projects/Ground Water Project/Data/podaac-tools.jpl.nasa.gov\\GRD-3_2008122-2008152_GRAC_JPLEM_BA01_0600_LND_v01.nc\n",
      "(1, 180, 360)\n",
      "C:/Users/Eslam/Documents/Work/2020-Side projects/Ground Water Project/Data/podaac-tools.jpl.nasa.gov\\GRD-3_2008153-2008182_GRAC_JPLEM_BA01_0600_LND_v01.nc\n",
      "(1, 180, 360)\n",
      "C:/Users/Eslam/Documents/Work/2020-Side projects/Ground Water Project/Data/podaac-tools.jpl.nasa.gov\\GRD-3_2008183-2008213_GRAC_JPLEM_BA01_0600_LND_v01.nc\n",
      "(1, 180, 360)\n",
      "C:/Users/Eslam/Documents/Work/2020-Side projects/Ground Water Project/Data/podaac-tools.jpl.nasa.gov\\GRD-3_2008214-2008244_GRAC_JPLEM_BA01_0600_LND_v01.nc\n",
      "(1, 180, 360)\n",
      "C:/Users/Eslam/Documents/Work/2020-Side projects/Ground Water Project/Data/podaac-tools.jpl.nasa.gov\\GRD-3_2008245-2008274_GRAC_JPLEM_BA01_0600_LND_v01.nc\n",
      "(1, 180, 360)\n",
      "C:/Users/Eslam/Documents/Work/2020-Side projects/Ground Water Project/Data/podaac-tools.jpl.nasa.gov\\GRD-3_2008275-2008305_GRAC_JPLEM_BA01_0600_LND_v01.nc\n",
      "(1, 180, 360)\n",
      "C:/Users/Eslam/Documents/Work/2020-Side projects/Ground Water Project/Data/podaac-tools.jpl.nasa.gov\\GRD-3_2008306-2008335_GRAC_JPLEM_BA01_0600_LND_v01.nc\n",
      "(1, 180, 360)\n",
      "C:/Users/Eslam/Documents/Work/2020-Side projects/Ground Water Project/Data/podaac-tools.jpl.nasa.gov\\GRD-3_2008336-2008366_GRAC_JPLEM_BA01_0600_LND_v01.nc\n",
      "(1, 180, 360)\n",
      "C:/Users/Eslam/Documents/Work/2020-Side projects/Ground Water Project/Data/podaac-tools.jpl.nasa.gov\\GRD-3_2009001-2009031_GRAC_JPLEM_BA01_0600_LND_v01.nc\n",
      "(1, 180, 360)\n",
      "C:/Users/Eslam/Documents/Work/2020-Side projects/Ground Water Project/Data/podaac-tools.jpl.nasa.gov\\GRD-3_2009032-2009059_GRAC_JPLEM_BA01_0600_LND_v01.nc\n",
      "(1, 180, 360)\n",
      "C:/Users/Eslam/Documents/Work/2020-Side projects/Ground Water Project/Data/podaac-tools.jpl.nasa.gov\\GRD-3_2009060-2009090_GRAC_JPLEM_BA01_0600_LND_v01.nc\n",
      "(1, 180, 360)\n",
      "C:/Users/Eslam/Documents/Work/2020-Side projects/Ground Water Project/Data/podaac-tools.jpl.nasa.gov\\GRD-3_2009091-2009120_GRAC_JPLEM_BA01_0600_LND_v01.nc\n",
      "(1, 180, 360)\n",
      "C:/Users/Eslam/Documents/Work/2020-Side projects/Ground Water Project/Data/podaac-tools.jpl.nasa.gov\\GRD-3_2009121-2009151_GRAC_JPLEM_BA01_0600_LND_v01.nc\n",
      "(1, 180, 360)\n",
      "C:/Users/Eslam/Documents/Work/2020-Side projects/Ground Water Project/Data/podaac-tools.jpl.nasa.gov\\GRD-3_2009152-2009181_GRAC_JPLEM_BA01_0600_LND_v01.nc\n",
      "(1, 180, 360)\n",
      "C:/Users/Eslam/Documents/Work/2020-Side projects/Ground Water Project/Data/podaac-tools.jpl.nasa.gov\\GRD-3_2009182-2009212_GRAC_JPLEM_BA01_0600_LND_v01.nc\n",
      "(1, 180, 360)\n",
      "C:/Users/Eslam/Documents/Work/2020-Side projects/Ground Water Project/Data/podaac-tools.jpl.nasa.gov\\GRD-3_2009213-2009243_GRAC_JPLEM_BA01_0600_LND_v01.nc\n",
      "(1, 180, 360)\n",
      "C:/Users/Eslam/Documents/Work/2020-Side projects/Ground Water Project/Data/podaac-tools.jpl.nasa.gov\\GRD-3_2009244-2009273_GRAC_JPLEM_BA01_0600_LND_v01.nc\n",
      "(1, 180, 360)\n",
      "C:/Users/Eslam/Documents/Work/2020-Side projects/Ground Water Project/Data/podaac-tools.jpl.nasa.gov\\GRD-3_2009274-2009304_GRAC_JPLEM_BA01_0600_LND_v01.nc\n",
      "(1, 180, 360)\n",
      "C:/Users/Eslam/Documents/Work/2020-Side projects/Ground Water Project/Data/podaac-tools.jpl.nasa.gov\\GRD-3_2009305-2009334_GRAC_JPLEM_BA01_0600_LND_v01.nc\n",
      "(1, 180, 360)\n",
      "C:/Users/Eslam/Documents/Work/2020-Side projects/Ground Water Project/Data/podaac-tools.jpl.nasa.gov\\GRD-3_2009335-2009365_GRAC_JPLEM_BA01_0600_LND_v01.nc\n",
      "(1, 180, 360)\n",
      "C:/Users/Eslam/Documents/Work/2020-Side projects/Ground Water Project/Data/podaac-tools.jpl.nasa.gov\\GRD-3_2010001-2010031_GRAC_JPLEM_BA01_0600_LND_v01.nc\n",
      "(1, 180, 360)\n",
      "C:/Users/Eslam/Documents/Work/2020-Side projects/Ground Water Project/Data/podaac-tools.jpl.nasa.gov\\GRD-3_2010032-2010059_GRAC_JPLEM_BA01_0600_LND_v01.nc\n",
      "(1, 180, 360)\n",
      "C:/Users/Eslam/Documents/Work/2020-Side projects/Ground Water Project/Data/podaac-tools.jpl.nasa.gov\\GRD-3_2010060-2010090_GRAC_JPLEM_BA01_0600_LND_v01.nc\n",
      "(1, 180, 360)\n",
      "C:/Users/Eslam/Documents/Work/2020-Side projects/Ground Water Project/Data/podaac-tools.jpl.nasa.gov\\GRD-3_2010091-2010120_GRAC_JPLEM_BA01_0600_LND_v01.nc\n",
      "(1, 180, 360)\n",
      "C:/Users/Eslam/Documents/Work/2020-Side projects/Ground Water Project/Data/podaac-tools.jpl.nasa.gov\\GRD-3_2010121-2010151_GRAC_JPLEM_BA01_0600_LND_v01.nc\n",
      "(1, 180, 360)\n",
      "C:/Users/Eslam/Documents/Work/2020-Side projects/Ground Water Project/Data/podaac-tools.jpl.nasa.gov\\GRD-3_2010152-2010181_GRAC_JPLEM_BA01_0600_LND_v01.nc\n",
      "(1, 180, 360)\n",
      "C:/Users/Eslam/Documents/Work/2020-Side projects/Ground Water Project/Data/podaac-tools.jpl.nasa.gov\\GRD-3_2010182-2010212_GRAC_JPLEM_BA01_0600_LND_v01.nc\n",
      "(1, 180, 360)\n",
      "C:/Users/Eslam/Documents/Work/2020-Side projects/Ground Water Project/Data/podaac-tools.jpl.nasa.gov\\GRD-3_2010213-2010243_GRAC_JPLEM_BA01_0600_LND_v01.nc\n",
      "(1, 180, 360)\n",
      "C:/Users/Eslam/Documents/Work/2020-Side projects/Ground Water Project/Data/podaac-tools.jpl.nasa.gov\\GRD-3_2010244-2010273_GRAC_JPLEM_BA01_0600_LND_v01.nc\n",
      "(1, 180, 360)\n",
      "C:/Users/Eslam/Documents/Work/2020-Side projects/Ground Water Project/Data/podaac-tools.jpl.nasa.gov\\GRD-3_2010274-2010304_GRAC_JPLEM_BA01_0600_LND_v01.nc\n",
      "(1, 180, 360)\n"
     ]
    },
    {
     "name": "stdout",
     "output_type": "stream",
     "text": [
      "C:/Users/Eslam/Documents/Work/2020-Side projects/Ground Water Project/Data/podaac-tools.jpl.nasa.gov\\GRD-3_2010305-2010334_GRAC_JPLEM_BA01_0600_LND_v01.nc\n",
      "(1, 180, 360)\n",
      "C:/Users/Eslam/Documents/Work/2020-Side projects/Ground Water Project/Data/podaac-tools.jpl.nasa.gov\\GRD-3_2010335-2010361_GRAC_JPLEM_BA01_0600_LND_v01.nc\n",
      "(1, 180, 360)\n",
      "C:/Users/Eslam/Documents/Work/2020-Side projects/Ground Water Project/Data/podaac-tools.jpl.nasa.gov\\GRD-3_2011039-2011059_GRAC_JPLEM_BA01_0600_LND_v01.nc\n",
      "(1, 180, 360)\n",
      "C:/Users/Eslam/Documents/Work/2020-Side projects/Ground Water Project/Data/podaac-tools.jpl.nasa.gov\\GRD-3_2011060-2011090_GRAC_JPLEM_BA01_0600_LND_v01.nc\n",
      "(1, 180, 360)\n",
      "C:/Users/Eslam/Documents/Work/2020-Side projects/Ground Water Project/Data/podaac-tools.jpl.nasa.gov\\GRD-3_2011091-2011120_GRAC_JPLEM_BA01_0600_LND_v01.nc\n",
      "(1, 180, 360)\n",
      "C:/Users/Eslam/Documents/Work/2020-Side projects/Ground Water Project/Data/podaac-tools.jpl.nasa.gov\\GRD-3_2011121-2011151_GRAC_JPLEM_BA01_0600_LND_v01.nc\n",
      "(1, 180, 360)\n",
      "C:/Users/Eslam/Documents/Work/2020-Side projects/Ground Water Project/Data/podaac-tools.jpl.nasa.gov\\GRD-3_2011186-2011212_GRAC_JPLEM_BA01_0600_LND_v01.nc\n",
      "(1, 180, 360)\n",
      "C:/Users/Eslam/Documents/Work/2020-Side projects/Ground Water Project/Data/podaac-tools.jpl.nasa.gov\\GRD-3_2011213-2011243_GRAC_JPLEM_BA01_0600_LND_v01.nc\n",
      "(1, 180, 360)\n",
      "C:/Users/Eslam/Documents/Work/2020-Side projects/Ground Water Project/Data/podaac-tools.jpl.nasa.gov\\GRD-3_2011244-2011273_GRAC_JPLEM_BA01_0600_LND_v01.nc\n",
      "(1, 180, 360)\n",
      "C:/Users/Eslam/Documents/Work/2020-Side projects/Ground Water Project/Data/podaac-tools.jpl.nasa.gov\\GRD-3_2011274-2011304_GRAC_JPLEM_BA01_0600_LND_v01.nc\n",
      "(1, 180, 360)\n",
      "C:/Users/Eslam/Documents/Work/2020-Side projects/Ground Water Project/Data/podaac-tools.jpl.nasa.gov\\GRD-3_2011290-2011320_GRAC_JPLEM_BA01_0600_LND_v01.nc\n",
      "(1, 180, 360)\n",
      "C:/Users/Eslam/Documents/Work/2020-Side projects/Ground Water Project/Data/podaac-tools.jpl.nasa.gov\\GRD-3_2011351-2012015_GRAC_JPLEM_BA01_0600_LND_v01.nc\n",
      "(1, 180, 360)\n",
      "C:/Users/Eslam/Documents/Work/2020-Side projects/Ground Water Project/Data/podaac-tools.jpl.nasa.gov\\GRD-3_2012001-2012031_GRAC_JPLEM_BA01_0600_LND_v01.nc\n",
      "(1, 180, 360)\n",
      "C:/Users/Eslam/Documents/Work/2020-Side projects/Ground Water Project/Data/podaac-tools.jpl.nasa.gov\\GRD-3_2012032-2012060_GRAC_JPLEM_BA01_0600_LND_v01.nc\n",
      "(1, 180, 360)\n",
      "C:/Users/Eslam/Documents/Work/2020-Side projects/Ground Water Project/Data/podaac-tools.jpl.nasa.gov\\GRD-3_2012061-2012091_GRAC_JPLEM_BA01_0600_LND_v01.nc\n",
      "(1, 180, 360)\n",
      "C:/Users/Eslam/Documents/Work/2020-Side projects/Ground Water Project/Data/podaac-tools.jpl.nasa.gov\\GRD-3_2012080-2012110_GRAC_JPLEM_BA01_0600_LND_v01.nc\n",
      "(1, 180, 360)\n",
      "C:/Users/Eslam/Documents/Work/2020-Side projects/Ground Water Project/Data/podaac-tools.jpl.nasa.gov\\GRD-3_2012153-2012182_GRAC_JPLEM_BA01_0600_LND_v01.nc\n",
      "(1, 180, 360)\n",
      "C:/Users/Eslam/Documents/Work/2020-Side projects/Ground Water Project/Data/podaac-tools.jpl.nasa.gov\\GRD-3_2012183-2012213_GRAC_JPLEM_BA01_0600_LND_v01.nc\n",
      "(1, 180, 360)\n",
      "C:/Users/Eslam/Documents/Work/2020-Side projects/Ground Water Project/Data/podaac-tools.jpl.nasa.gov\\GRD-3_2012214-2012244_GRAC_JPLEM_BA01_0600_LND_v01.nc\n",
      "(1, 180, 360)\n",
      "C:/Users/Eslam/Documents/Work/2020-Side projects/Ground Water Project/Data/podaac-tools.jpl.nasa.gov\\GRD-3_2012245-2012268_GRAC_JPLEM_BA01_0600_LND_v01.nc\n",
      "(1, 180, 360)\n",
      "C:/Users/Eslam/Documents/Work/2020-Side projects/Ground Water Project/Data/podaac-tools.jpl.nasa.gov\\GRD-3_2012311-2012335_GRAC_JPLEM_BA01_0600_LND_v01.nc\n",
      "(1, 180, 360)\n",
      "C:/Users/Eslam/Documents/Work/2020-Side projects/Ground Water Project/Data/podaac-tools.jpl.nasa.gov\\GRD-3_2012336-2012366_GRAC_JPLEM_BA01_0600_LND_v01.nc\n",
      "(1, 180, 360)\n",
      "C:/Users/Eslam/Documents/Work/2020-Side projects/Ground Water Project/Data/podaac-tools.jpl.nasa.gov\\GRD-3_2013001-2013031_GRAC_JPLEM_BA01_0600_LND_v01.nc\n",
      "(1, 180, 360)\n",
      "C:/Users/Eslam/Documents/Work/2020-Side projects/Ground Water Project/Data/podaac-tools.jpl.nasa.gov\\GRD-3_2013032-2013057_GRAC_JPLEM_BA01_0600_LND_v01.nc\n",
      "(1, 180, 360)\n",
      "C:/Users/Eslam/Documents/Work/2020-Side projects/Ground Water Project/Data/podaac-tools.jpl.nasa.gov\\GRD-3_2013101-2013120_GRAC_JPLEM_BA01_0600_LND_v01.nc\n",
      "(1, 180, 360)\n",
      "C:/Users/Eslam/Documents/Work/2020-Side projects/Ground Water Project/Data/podaac-tools.jpl.nasa.gov\\GRD-3_2013121-2013151_GRAC_JPLEM_BA01_0600_LND_v01.nc\n",
      "(1, 180, 360)\n",
      "C:/Users/Eslam/Documents/Work/2020-Side projects/Ground Water Project/Data/podaac-tools.jpl.nasa.gov\\GRD-3_2013152-2013181_GRAC_JPLEM_BA01_0600_LND_v01.nc\n",
      "(1, 180, 360)\n",
      "C:/Users/Eslam/Documents/Work/2020-Side projects/Ground Water Project/Data/podaac-tools.jpl.nasa.gov\\GRD-3_2013182-2013212_GRAC_JPLEM_BA01_0600_LND_v01.nc\n",
      "(1, 180, 360)\n",
      "C:/Users/Eslam/Documents/Work/2020-Side projects/Ground Water Project/Data/podaac-tools.jpl.nasa.gov\\GRD-3_2013274-2013304_GRAC_JPLEM_BA01_0600_LND_v01.nc\n",
      "(1, 180, 360)\n",
      "C:/Users/Eslam/Documents/Work/2020-Side projects/Ground Water Project/Data/podaac-tools.jpl.nasa.gov\\GRD-3_2013305-2013334_GRAC_JPLEM_BA01_0600_LND_v01.nc\n",
      "(1, 180, 360)\n",
      "C:/Users/Eslam/Documents/Work/2020-Side projects/Ground Water Project/Data/podaac-tools.jpl.nasa.gov\\GRD-3_2013335-2013365_GRAC_JPLEM_BA01_0600_LND_v01.nc\n",
      "(1, 180, 360)\n",
      "C:/Users/Eslam/Documents/Work/2020-Side projects/Ground Water Project/Data/podaac-tools.jpl.nasa.gov\\GRD-3_2014001-2014017_GRAC_JPLEM_BA01_0600_LND_v01.nc\n",
      "(1, 180, 360)\n",
      "C:/Users/Eslam/Documents/Work/2020-Side projects/Ground Water Project/Data/podaac-tools.jpl.nasa.gov\\GRD-3_2014060-2014090_GRAC_JPLEM_BA01_0600_LND_v01.nc\n",
      "(1, 180, 360)\n",
      "C:/Users/Eslam/Documents/Work/2020-Side projects/Ground Water Project/Data/podaac-tools.jpl.nasa.gov\\GRD-3_2014091-2014120_GRAC_JPLEM_BA01_0600_LND_v01.nc\n",
      "(1, 180, 360)\n",
      "C:/Users/Eslam/Documents/Work/2020-Side projects/Ground Water Project/Data/podaac-tools.jpl.nasa.gov\\GRD-3_2014121-2014151_GRAC_JPLEM_BA01_0600_LND_v01.nc\n",
      "(1, 180, 360)\n",
      "C:/Users/Eslam/Documents/Work/2020-Side projects/Ground Water Project/Data/podaac-tools.jpl.nasa.gov\\GRD-3_2014152-2014175_GRAC_JPLEM_BA01_0600_LND_v01.nc\n",
      "(1, 180, 360)\n",
      "C:/Users/Eslam/Documents/Work/2020-Side projects/Ground Water Project/Data/podaac-tools.jpl.nasa.gov\\GRD-3_2014213-2014243_GRAC_JPLEM_BA01_0600_LND_v01.nc\n",
      "(1, 180, 360)\n",
      "C:/Users/Eslam/Documents/Work/2020-Side projects/Ground Water Project/Data/podaac-tools.jpl.nasa.gov\\GRD-3_2014244-2014273_GRAC_JPLEM_BA01_0600_LND_v01.nc\n",
      "(1, 180, 360)\n",
      "C:/Users/Eslam/Documents/Work/2020-Side projects/Ground Water Project/Data/podaac-tools.jpl.nasa.gov\\GRD-3_2014274-2014304_GRAC_JPLEM_BA01_0600_LND_v01.nc\n",
      "(1, 180, 360)\n",
      "C:/Users/Eslam/Documents/Work/2020-Side projects/Ground Water Project/Data/podaac-tools.jpl.nasa.gov\\GRD-3_2014305-2014336_GRAC_JPLEM_BA01_0600_LND_v01.nc\n",
      "(1, 180, 360)\n",
      "C:/Users/Eslam/Documents/Work/2020-Side projects/Ground Water Project/Data/podaac-tools.jpl.nasa.gov\\GRD-3_2015013-2015031_GRAC_JPLEM_BA01_0600_LND_v01.nc\n",
      "(1, 180, 360)\n",
      "C:/Users/Eslam/Documents/Work/2020-Side projects/Ground Water Project/Data/podaac-tools.jpl.nasa.gov\\GRD-3_2015032-2015059_GRAC_JPLEM_BA01_0600_LND_v01.nc\n",
      "(1, 180, 360)\n",
      "C:/Users/Eslam/Documents/Work/2020-Side projects/Ground Water Project/Data/podaac-tools.jpl.nasa.gov\\GRD-3_2015060-2015090_GRAC_JPLEM_BA01_0600_LND_v01.nc\n",
      "(1, 180, 360)\n",
      "C:/Users/Eslam/Documents/Work/2020-Side projects/Ground Water Project/Data/podaac-tools.jpl.nasa.gov\\GRD-3_2015091-2015120_GRAC_JPLEM_BA01_0600_LND_v01.nc\n",
      "(1, 180, 360)\n",
      "C:/Users/Eslam/Documents/Work/2020-Side projects/Ground Water Project/Data/podaac-tools.jpl.nasa.gov\\GRD-3_2015102-2015131_GRAC_JPLEM_BA01_0600_LND_v01.nc\n",
      "(1, 180, 360)\n",
      "C:/Users/Eslam/Documents/Work/2020-Side projects/Ground Water Project/Data/podaac-tools.jpl.nasa.gov\\GRD-3_2015180-2015212_GRAC_JPLEM_BA01_0600_LND_v01.nc\n",
      "(1, 180, 360)\n",
      "C:/Users/Eslam/Documents/Work/2020-Side projects/Ground Water Project/Data/podaac-tools.jpl.nasa.gov\\GRD-3_2015213-2015243_GRAC_JPLEM_BA01_0600_LND_v01.nc\n",
      "(1, 180, 360)\n",
      "C:/Users/Eslam/Documents/Work/2020-Side projects/Ground Water Project/Data/podaac-tools.jpl.nasa.gov\\GRD-3_2015244-2015270_GRAC_JPLEM_BA01_0600_LND_v01.nc\n",
      "(1, 180, 360)\n",
      "C:/Users/Eslam/Documents/Work/2020-Side projects/Ground Water Project/Data/podaac-tools.jpl.nasa.gov\\GRD-3_2015346-2016003_GRAC_JPLEM_BA01_0600_LND_v01.nc\n",
      "(1, 180, 360)\n",
      "C:/Users/Eslam/Documents/Work/2020-Side projects/Ground Water Project/Data/podaac-tools.jpl.nasa.gov\\GRD-3_2016004-2016028_GRAC_JPLEM_BA01_0600_LND_v01.nc\n",
      "(1, 180, 360)\n",
      "C:/Users/Eslam/Documents/Work/2020-Side projects/Ground Water Project/Data/podaac-tools.jpl.nasa.gov\\GRD-3_2016029-2016060_GRAC_JPLEM_BA01_0600_LND_v01.nc\n"
     ]
    },
    {
     "name": "stdout",
     "output_type": "stream",
     "text": [
      "(1, 180, 360)\n",
      "C:/Users/Eslam/Documents/Work/2020-Side projects/Ground Water Project/Data/podaac-tools.jpl.nasa.gov\\GRD-3_2016061-2016091_GRAC_JPLEM_BA01_0600_LND_v01.nc\n",
      "(1, 180, 360)\n",
      "C:/Users/Eslam/Documents/Work/2020-Side projects/Ground Water Project/Data/podaac-tools.jpl.nasa.gov\\GRD-3_2016129-2016152_GRAC_JPLEM_BA01_0600_LND_v01.nc\n",
      "(1, 180, 360)\n",
      "C:/Users/Eslam/Documents/Work/2020-Side projects/Ground Water Project/Data/podaac-tools.jpl.nasa.gov\\GRD-3_2016153-2016182_GRAC_JPLEM_BA01_0600_LND_v01.nc\n",
      "(1, 180, 360)\n",
      "C:/Users/Eslam/Documents/Work/2020-Side projects/Ground Water Project/Data/podaac-tools.jpl.nasa.gov\\GRD-3_2016183-2016211_GRAC_JPLEM_BA01_0600_LND_v01.nc\n",
      "(1, 180, 360)\n",
      "C:/Users/Eslam/Documents/Work/2020-Side projects/Ground Water Project/Data/podaac-tools.jpl.nasa.gov\\GRD-3_2016221-2016247_GRAC_JPLEM_BA01_0600_LND_v01.nc\n",
      "(1, 180, 360)\n",
      "C:/Users/Eslam/Documents/Work/2020-Side projects/Ground Water Project/Data/podaac-tools.jpl.nasa.gov\\GRD-3_2016319-2016345_GRAC_JPLEM_BA01_0600_LND_v01.nc\n",
      "(1, 180, 360)\n",
      "C:/Users/Eslam/Documents/Work/2020-Side projects/Ground Water Project/Data/podaac-tools.jpl.nasa.gov\\GRD-3_2016346-2017006_GRAC_JPLEM_BA01_0600_LND_v01.nc\n",
      "(1, 180, 360)\n",
      "C:/Users/Eslam/Documents/Work/2020-Side projects/Ground Water Project/Data/podaac-tools.jpl.nasa.gov\\GRD-3_2017007-2017034_GRAC_JPLEM_BA01_0600_LND_v01.nc\n",
      "(1, 180, 360)\n",
      "C:/Users/Eslam/Documents/Work/2020-Side projects/Ground Water Project/Data/podaac-tools.jpl.nasa.gov\\GRD-3_2017076-2017104_GRAC_JPLEM_BA01_0600_LND_v01.nc\n",
      "(1, 180, 360)\n",
      "C:/Users/Eslam/Documents/Work/2020-Side projects/Ground Water Project/Data/podaac-tools.jpl.nasa.gov\\GRD-3_2017100-2017128_GRAC_JPLEM_BA01_0600_LND_v01.nc\n",
      "(1, 180, 360)\n",
      "C:/Users/Eslam/Documents/Work/2020-Side projects/Ground Water Project/Data/podaac-tools.jpl.nasa.gov\\GRD-3_2017122-2017142_GRAC_JPLEM_BA01_0600_LND_v01.nc\n",
      "(1, 180, 360)\n",
      "C:/Users/Eslam/Documents/Work/2020-Side projects/Ground Water Project/Data/podaac-tools.jpl.nasa.gov\\GRD-3_2017143-2017180_GRAC_JPLEM_BA01_0600_LND_v01.nc\n",
      "(1, 180, 360)\n",
      "C:/Users/Eslam/Documents/Work/2020-Side projects/Ground Water Project/Data/podaac-tools.jpl.nasa.gov\\GRD-3_2018152-2018181_GRAC_JPLEM_BA01_0600_LND_v01.nc\n",
      "(1, 180, 360)\n",
      "C:/Users/Eslam/Documents/Work/2020-Side projects/Ground Water Project/Data/podaac-tools.jpl.nasa.gov\\GRD-3_2018182-2018199_GRAC_JPLEM_BA01_0600_LND_v01.nc\n",
      "(1, 180, 360)\n",
      "C:/Users/Eslam/Documents/Work/2020-Side projects/Ground Water Project/Data/podaac-tools.jpl.nasa.gov\\GRD-3_2018295-2018313_GRAC_JPLEM_BA01_0600_LND_v01.nc\n",
      "(1, 180, 360)\n",
      "C:/Users/Eslam/Documents/Work/2020-Side projects/Ground Water Project/Data/podaac-tools.jpl.nasa.gov\\GRD-3_2018305-2018334_GRAC_JPLEM_BA01_0600_LND_v01.nc\n",
      "(1, 180, 360)\n",
      "C:/Users/Eslam/Documents/Work/2020-Side projects/Ground Water Project/Data/podaac-tools.jpl.nasa.gov\\GRD-3_2018335-2018365_GRAC_JPLEM_BA01_0600_LND_v01.nc\n",
      "(1, 180, 360)\n",
      "C:/Users/Eslam/Documents/Work/2020-Side projects/Ground Water Project/Data/podaac-tools.jpl.nasa.gov\\GRD-3_2019001-2019031_GRAC_JPLEM_BA01_0600_LND_v01.nc\n",
      "(1, 180, 360)\n",
      "C:/Users/Eslam/Documents/Work/2020-Side projects/Ground Water Project/Data/podaac-tools.jpl.nasa.gov\\GRD-3_2019026-2019063_GRAC_JPLEM_BA01_0600_LND_v01.nc\n",
      "(1, 180, 360)\n",
      "C:/Users/Eslam/Documents/Work/2020-Side projects/Ground Water Project/Data/podaac-tools.jpl.nasa.gov\\GRD-3_2019060-2019090_GRAC_JPLEM_BA01_0600_LND_v01.nc\n",
      "(1, 180, 360)\n",
      "C:/Users/Eslam/Documents/Work/2020-Side projects/Ground Water Project/Data/podaac-tools.jpl.nasa.gov\\GRD-3_2019091-2019120_GRAC_JPLEM_BA01_0600_LND_v01.nc\n",
      "(1, 180, 360)\n",
      "C:/Users/Eslam/Documents/Work/2020-Side projects/Ground Water Project/Data/podaac-tools.jpl.nasa.gov\\GRD-3_2019121-2019151_GRAC_JPLEM_BA01_0600_LND_v01.nc\n",
      "(1, 180, 360)\n",
      "C:/Users/Eslam/Documents/Work/2020-Side projects/Ground Water Project/Data/podaac-tools.jpl.nasa.gov\\GRD-3_2019152-2019181_GRAC_JPLEM_BA01_0600_LND_v01.nc\n",
      "(1, 180, 360)\n"
     ]
    },
    {
     "data": {
      "image/png": "[encoded data removed]",
      "text/plain": [
       "<Figure size 432x288 with 1 Axes>"
      ]
     },
     "metadata": {
      "needs_background": "light"
     },
     "output_type": "display_data"
    }
   ],
   "source": [
    "# This section converts raw data into images so can cropp it after\n",
    "i = 0\n",
    "\n",
    "for frame in frames:\n",
    "    print(frame)\n",
    "    nc = NetCDFFile(frame) # note this file is 2.5 degree, so low resolution data\n",
    "    data = nc.variables ['lwe_thickness'][:,:,:]\n",
    "    print(data.shape)\n",
    "    \n",
    "#     data[data >= .1] = 1 #the red points are the high, the rest are the l, THE Darkest red\n",
    "#     data[(data > .4) & (data <= .6) ] = 0.6\n",
    "#     data[(data > .2) & (data  <= .4) ] = 0.4\n",
    "#     data[(data > 0.2) & (data <= 0.4) ] = 0.6\n",
    "    \n",
    "#     data[(data > 0.0) & (data < 0.1) ] = 0.8 #orange\n",
    "#     data[data >= 0.05] = 1 #the red points are the high, the rest are the l, THE Darkest red\n",
    "#     data[(data >= -0.999999 ) & (data <= 0.05) ] = 0.4 #Blue light\n",
    "\n",
    "#     data[data <= -0.2] = -0.2 # the see level\n",
    "    \n",
    "#     print(data)\n",
    "#     print(np.max(data[0]))\n",
    "# #     data\n",
    "# #     print(data)\n",
    "# #     data0 = np.array(data)\n",
    "# #     print(data[0].min())\n",
    "# #     print(data[0].max())\n",
    "# #     print()\n",
    "# #     break\n",
    "    cmap = plt.cm.jet\n",
    "# #     norm = plt.Normalize(vmin=data[0].min(), vmax=data[0].max())\n",
    "#     norm = plt.Normalize()\n",
    "\n",
    "    name = os.path.basename(frame).split(\".\") # to get the name of the file\n",
    "# map the normalized data to colors\n",
    "# image is now RGBA (512x512x4) \n",
    "    \n",
    "#     image = cmap(norm(data[0]))\n",
    "    image = cmap(data[0])\n",
    "\n",
    "    plt.imshow(data[0])\n",
    "#     plt.colorbar()\n",
    "\n",
    "    plt.imsave('C:/Users/Eslam/Documents/Work/2020-Side projects/Ground Water Project/Data/NEW2/'+name[0]+'.png', image)\n",
    "    \n",
    "    #pltt.colorbar()\n",
    "    #plt.imsave('test2.png', image)\n",
    "\n",
    "\n",
    "#     break\n"
   ]
  },
  {
   "cell_type": "markdown",
   "metadata": {},
   "source": [
    "### NOW Cropping the images and may be (resizing)"
   ]
  },
  {
   "cell_type": "code",
   "execution_count": 8,
   "metadata": {},
   "outputs": [],
   "source": [
    "images = sorted(glob.glob ('C:/Users/Eslam/Documents/Work/2020-Side projects/Ground Water Project/Data/NEW2/*.png')) # Change Type (not now)\n",
    "\n",
    "for image in images:\n",
    "    img = Image.open(image).convert('RGBA')\n",
    "    name = os.path.basename(image).split(\".\")\n",
    "#     img.crop((6,53,53,104)).convert(\"L\").save('C:/Users/Eslam/Documents/Work/2020-Side projects/Ground Water Project/Data/NewOut/'+name[0]+'.png') # cropping to focus on capetown\n",
    "#     break\n",
    "    img.convert(\"L\").save('C:/Users/Eslam/Documents/Work/2020-Side projects/Ground Water Project/Data/full/'+name[0]+'.png') # cropping to focus on capetown\n"
   ]
  },
  {
   "cell_type": "markdown",
   "metadata": {},
   "source": [
    "### the Size of the images \n"
   ]
  },
  {
   "cell_type": "code",
   "execution_count": null,
   "metadata": {},
   "outputs": [],
   "source": [
    "# proImages = sorted(glob.glob (\"C:/Users/Eslam/Documents/Work/2020-Side projects/Ground Water Project/Data/WG_Prepro/*.png\"))\n",
    "# img0 = Image.open(proImages[0])\n",
    "# print(img0.size)\n",
    "\n",
    "# print(\"then the dats set would have: \" +str (29*32*174)+\" instances (more or less)\")"
   ]
  },
  {
   "cell_type": "markdown",
   "metadata": {},
   "source": [
    "### Transfrom into Grey"
   ]
  },
  {
   "cell_type": "code",
   "execution_count": 25,
   "metadata": {},
   "outputs": [],
   "source": [
    "images = sorted(glob.glob ('C:/Users/Eslam/Documents/Work/2020-Side projects/Ground Water Project/Data/v4cropped/*.png')) # Change Type (not now)\n",
    "\n",
    "for image in images:\n",
    "    img = Image.open(image).convert('RGBA')\n",
    "    name = os.path.basename(image).split(\".\")\n",
    "    img.convert(\"L\").save('C:/Users/Eslam/Documents/Work/2020-Side projects/Ground Water Project/Data/v3Grey/'+name[0]+'.png') # cropping to focus on capetown\n",
    "#     break"
   ]
  },
  {
   "cell_type": "markdown",
   "metadata": {},
   "source": [
    "### Visualize the data"
   ]
  },
  {
   "cell_type": "code",
   "execution_count": null,
   "metadata": {},
   "outputs": [],
   "source": [
    "# img1_path = \"C:/Users/Eslam/Documents/Work/2020-Side projects/Ground Water Project/Data/WG_Prepro/GRD-3_2002094-2002120_GRAC_JPLEM_BA01_0600_LND_v01.png\"\n",
    "# img2_path = \"C:/Users/Eslam/Documents/Work/2020-Side projects/Ground Water Project/Data/WG_Grey/GRD-3_2002094-2002120_GRAC_JPLEM_BA01_0600_LND_v01.png\"\n",
    "\n",
    "# img1 =  Image.open(img1_path)\n",
    "# data1 = np.array(img1)\n",
    "\n",
    "# img2 =  Image.open(img2_path)\n",
    "# data2 = np.array(img2).flatten()\n"
   ]
  },
  {
   "cell_type": "code",
   "execution_count": null,
   "metadata": {},
   "outputs": [],
   "source": [
    "print(data1.shape)\n",
    "print(data2.shape)"
   ]
  },
  {
   "cell_type": "markdown",
   "metadata": {},
   "source": [
    "### Creating the data set"
   ]
  },
  {
   "cell_type": "code",
   "execution_count": null,
   "metadata": {},
   "outputs": [],
   "source": [
    "def makingDataset (xPathArr, yPathArr,seqLen, numDayAhead):\n",
    "    DataX = []\n",
    "    DataY = []\n",
    "    \n",
    "    w,h = Image.open(xPathArr[0]).size\n",
    "    totPixels = w*h\n",
    "    \n",
    "    for i in range(len(xPathArr)):\n",
    "        try:\n",
    "            DataX1 = []\n",
    "            imgX0 = Image.open(xPathArr[i]).convert(\"L\")\n",
    "            imgXSeq_Numpy = np.array(imgX0).flatten()\n",
    "            DataX1.append (imgXSeq_Numpy)  \n",
    "            for j in range(seqLen-1):\n",
    "                \n",
    "                imgX = Image.open(xPathArr[i+j+1]).convert(\"L\")  # to open the image\n",
    "                imgX_Numpy = np.array(imgX).flatten()#to get the data f the next image in the sequence\n",
    "\n",
    "#                 imgXSeq_Numpy = np.append(imgXSeq_Numpy, imgX_Numpy, axis=0)# if not then append\n",
    "                DataX1.append (imgX_Numpy)\n",
    "            print(np.array(DataX1).shape)\n",
    "            imgY = Image.open(yPathArr[i+seqLen+numDayAhead]).convert(\"L\")\n",
    "            print(1)\n",
    "            DataX.append(( DataX1 )) # append the features n for instance i into a list, this \n",
    "            print(np.array(DataX).shape)\n",
    "            DataY.append(np.array(imgY).flatten() )\n",
    "                     \n",
    "        except: # means out of range\n",
    "#             print(\"The end of the Dataset\")\n",
    "            return DataX, DataY\n",
    "    return DataX, DataY"
   ]
  },
  {
   "cell_type": "code",
   "execution_count": null,
   "metadata": {},
   "outputs": [],
   "source": [
    "yFiles = sorted(glob.glob ('C:/Users/Eslam/Documents/Work/2020-Side projects/Ground Water Project/Data/greyOut/*.png')) # Change Cell\n",
    "xFiles = sorted(glob.glob ('C:/Users/Eslam/Documents/Work/2020-Side projects/Ground Water Project/Data/WG_Grey/*.png')) # Change Cell"
   ]
  },
  {
   "cell_type": "code",
   "execution_count": null,
   "metadata": {
    "scrolled": true
   },
   "outputs": [],
   "source": [
    "DataX, DataY = makingDataset(xFiles, yFiles, 20, 0) \n",
    "DataX = np.array(DataX)/255\n",
    "DataY = np.array(DataY)\n"
   ]
  },
  {
   "cell_type": "code",
   "execution_count": null,
   "metadata": {},
   "outputs": [],
   "source": [
    "print(DataX.shape)\n",
    "print(DataY.shape)\n",
    "print(DataY)\n",
    "#14 is the low\n",
    "#37 is the high"
   ]
  },
  {
   "cell_type": "code",
   "execution_count": null,
   "metadata": {},
   "outputs": [],
   "source": [
    "print(DataX[0][0].shape)"
   ]
  },
  {
   "cell_type": "code",
   "execution_count": null,
   "metadata": {},
   "outputs": [],
   "source": [
    "def makingDataset2 (dataX, dataY):\n",
    "    DataX0 = [0, 0, 0, 0, 0, 0, 0, 0, 0, 0, 0, 0, 0, 0, 0, 0, 0, 0, 0, 0]\n",
    "    DataX1 = []\n",
    "    DataY1 = []\n",
    "    for i in range (len(dataX)):\n",
    "        for pixel in range (len(dataX[0][0])):\n",
    "#             print(pixel)\n",
    "            for t in range (20):\n",
    "                DataX0[t] = dataX[i][t][pixel]\n",
    "            \n",
    "            DataX1.append(DataX0)\n",
    "            if (dataY[i][pixel] == 14):\n",
    "                DataY1.append(0)\n",
    "            else:\n",
    "                 DataY1.append(1)\n",
    "            \n",
    "            \n",
    "    return DataX1, DataY1\n",
    "            \n",
    "    \n",
    "            \n",
    "    "
   ]
  },
  {
   "cell_type": "code",
   "execution_count": null,
   "metadata": {},
   "outputs": [],
   "source": [
    "DataXX, DataYY = makingDataset2(DataX, DataY) \n",
    "DataXX = np.array(DataXX)\n",
    "DataYY = np.array(DataYY)\n",
    "\n",
    "\n",
    "# print(DataYY)\n",
    "print(DataXX.shape)\n",
    "print(DataYY.shape)"
   ]
  },
  {
   "cell_type": "code",
   "execution_count": null,
   "metadata": {},
   "outputs": [],
   "source": [
    "print(len(np.where(DataYY == 1)[0]))"
   ]
  },
  {
   "cell_type": "markdown",
   "metadata": {},
   "source": [
    "### Machine learning"
   ]
  },
  {
   "cell_type": "code",
   "execution_count": null,
   "metadata": {},
   "outputs": [],
   "source": [
    "import sklearn\n",
    "from sklearn.utils import shuffle\n",
    "from sklearn.model_selection import train_test_split\n",
    "from sklearn.model_selection import GridSearchCV\n",
    "from sklearn.datasets import make_classification\n",
    "from sklearn.svm import SVC\n",
    "from sklearn import decomposition\n",
    "from sklearn.model_selection import StratifiedShuffleSplit\n",
    "from sklearn import svm\n",
    "import time\n",
    "from sklearn.metrics import *"
   ]
  },
  {
   "cell_type": "code",
   "execution_count": null,
   "metadata": {},
   "outputs": [],
   "source": [
    "Xtrain,Xtest, Ytrain, Ytest = train_test_split(DataXX, DataYY,test_size = .5, random_state=1, stratify=DataYY)\n"
   ]
  },
  {
   "cell_type": "code",
   "execution_count": null,
   "metadata": {},
   "outputs": [],
   "source": [
    "from imblearn.under_sampling import ClusterCentroids\n",
    "cc = ClusterCentroids(random_state=0)\n",
    "X_resampled, y_resampled = cc.fit_resample(Xtrain, Ytrain)"
   ]
  },
  {
   "cell_type": "code",
   "execution_count": null,
   "metadata": {},
   "outputs": [],
   "source": [
    "from imblearn.under_sampling import RandomUnderSampler\n",
    "rus = RandomUnderSampler(random_state=0)\n",
    "X_resampled, y_resampled = rus.fit_resample(X, y)"
   ]
  },
  {
   "cell_type": "code",
   "execution_count": null,
   "metadata": {},
   "outputs": [],
   "source": []
  },
  {
   "cell_type": "code",
   "execution_count": null,
   "metadata": {},
   "outputs": [],
   "source": []
  },
  {
   "cell_type": "code",
   "execution_count": null,
   "metadata": {},
   "outputs": [],
   "source": [
    "param_grid = [  {'C': [1], 'gamma': [0.0001], 'kernel': ['rbf']},\n",
    "\n",
    "#   {'C': [0.00001,0.001,0.1,1, 10, 100, 1000], 'kernel': ['linear']},\n",
    "#   {'C': [0.00001,0.001,0.1,1, 10, 100, 1000], 'gamma': [0.001, 0.0001], 'kernel': ['rbf']},\n",
    " ]\n",
    "estimator = SVC()\n",
    "clf =  GridSearchCV(estimator, param_grid, cv=3, n_jobs=1)"
   ]
  },
  {
   "cell_type": "code",
   "execution_count": null,
   "metadata": {},
   "outputs": [],
   "source": [
    "clf.fit(Xtrain, Ytrain)\n"
   ]
  },
  {
   "cell_type": "code",
   "execution_count": null,
   "metadata": {},
   "outputs": [],
   "source": [
    "# clf = SVR(C=1.0, epsilon=0.2)\n",
    "# clf.fit(Xtrain, Ytrain)"
   ]
  },
  {
   "cell_type": "code",
   "execution_count": null,
   "metadata": {},
   "outputs": [],
   "source": [
    "y_pred = clf.predict(Xtest)"
   ]
  },
  {
   "cell_type": "code",
   "execution_count": null,
   "metadata": {},
   "outputs": [],
   "source": [
    "print(\"Accuracy: {}%\".format(clf.score(Xtest, Ytest) * 100 ))\n",
    "print(\"classification_report\")\n",
    "print(classification_report(Ytest,y_pred))\n",
    "print(\"Matrix\")\n",
    "print(confusion_matrix(Ytest,y_pred))"
   ]
  },
  {
   "cell_type": "code",
   "execution_count": null,
   "metadata": {},
   "outputs": [],
   "source": [
    "print(len(np.where(y_pred == 0)[0]) )"
   ]
  },
  {
   "cell_type": "code",
   "execution_count": null,
   "metadata": {},
   "outputs": [],
   "source": []
  }
 ],
 "metadata": {
  "kernelspec": {
   "display_name": "Python 3",
   "language": "python",
   "name": "python3"
  },
  "language_info": {
   "codemirror_mode": {
    "name": "ipython",
    "version": 3
   },
   "file_extension": ".py",
   "mimetype": "text/x-python",
   "name": "python",
   "nbconvert_exporter": "python",
   "pygments_lexer": "ipython3",
   "version": "3.8.3"
  }
 },
 "nbformat": 4,
 "nbformat_minor": 2
}
